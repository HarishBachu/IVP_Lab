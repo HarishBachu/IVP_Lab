{
 "metadata": {
  "language_info": {
   "codemirror_mode": {
    "name": "ipython",
    "version": 3
   },
   "file_extension": ".py",
   "mimetype": "text/x-python",
   "name": "python",
   "nbconvert_exporter": "python",
   "pygments_lexer": "ipython3",
   "version": "3.7.10-final"
  },
  "orig_nbformat": 2,
  "kernelspec": {
   "name": "python3710jvsc74a57bd0125fb9edb0687e7e40649f3d4ac076ed8f6387ce59a5df80ec89338b2a4e9129",
   "display_name": "Python 3.7.10 64-bit ('machine_learning': conda)"
  },
  "metadata": {
   "interpreter": {
    "hash": "125fb9edb0687e7e40649f3d4ac076ed8f6387ce59a5df80ec89338b2a4e9129"
   }
  }
 },
 "nbformat": 4,
 "nbformat_minor": 2,
 "cells": [
  {
   "cell_type": "code",
   "execution_count": 1,
   "metadata": {},
   "outputs": [],
   "source": [
    " class Node(object):\n",
    "    def __init__(self, parent=None, left=None, right=None, weight=0, symbol=''):\n",
    "        super(Node, self).__init__()\n",
    "        self.parent = parent\n",
    "        self.left = left\n",
    "        self.right = right\n",
    "        self.weight = weight\n",
    "        self.symbol = symbol\n",
    "   \n",
    "    def parent(self):\n",
    "        return self.parent\n",
    "   \n",
    "    def parent(self, parent):\n",
    "        self.parent = parent\n",
    "    \n",
    "    def left(self):\n",
    "        return self.left\n",
    "   \n",
    "    def left(self, left):\n",
    "        self.left = left\n",
    "    \n",
    "    def right(self):\n",
    "        return self.right\n",
    "    \n",
    "    def right(self, right):\n",
    "        self.right = right\n",
    "    \n",
    "    def weight(self):\n",
    "        return self.weight\n",
    "    \n",
    "    def weight(self, weight):\n",
    "        self.weight = weight\n",
    "   \n",
    "    def symbol(self):\n",
    "        return self.symbol\n",
    "    \n",
    "    def symbol(self, symbol):\n",
    "        self.symbol = symbol"
   ]
  },
  {
   "cell_type": "code",
   "execution_count": 2,
   "metadata": {},
   "outputs": [],
   "source": [
    "class FGK(object):\n",
    "    def __init__(self):\n",
    "        super(FGK, self).__init__()\n",
    "        self.NYT = Node(symbol=\"NYT\")\n",
    "        self.root = self.NYT\n",
    "        self.nodes = []\n",
    "        self.seen = [None] * 256\n",
    "\n",
    "    def get_code(self, s, node, code=''):\n",
    "        if node.left is None and node.right is None:\n",
    "            return code if node.symbol == s else ''\n",
    "        else:\n",
    "            temp = ''\n",
    "            if node.left is not None:\n",
    "                temp = self.get_code(s, node.left, code+'0')\n",
    "            if not temp and node.right is not None:\n",
    "                temp = self.get_code(s, node.right, code+'1')\n",
    "            return temp\n",
    "\n",
    "    def find_largest_node(self, weight):\n",
    "        for n in reversed(self.nodes):\n",
    "            if n.weight == weight:\n",
    "                return n\n",
    "\n",
    "    def swap_node(self, n1, n2):\n",
    "        i1, i2 = self.nodes.index(n1), self.nodes.index(n2)\n",
    "        self.nodes[i1], self.nodes[i2] = self.nodes[i2], self.nodes[i1]\n",
    "        tmp_parent = n1.parent\n",
    "        n1.parent = n2.parent\n",
    "        n2.parent = tmp_parent\n",
    "        if n1.parent.left is n2:\n",
    "            n1.parent.left = n1\n",
    "        else:\n",
    "            n1.parent.right = n1\n",
    "        if n2.parent.left is n1:\n",
    "            n2.parent.left = n2\n",
    "        else:\n",
    "            n2.parent.right = n2\n",
    "\n",
    "    def insert(self, s):\n",
    "        node = self.seen[ord(s)]\n",
    "\n",
    "        if node is None:\n",
    "            spawn = Node(symbol=s, weight=1)\n",
    "            internal = Node(symbol='', weight=1, parent=self.NYT.parent, left=self.NYT, right=spawn)\n",
    "            spawn.parent = internal\n",
    "            self.NYT.parent = internal\n",
    "\n",
    "            if internal.parent is not None:\n",
    "                internal.parent.left = internal\n",
    "            else:\n",
    "                self.root = internal\n",
    "            self.nodes.insert(0, internal)\n",
    "            self.nodes.insert(0, spawn)\n",
    "            self.seen[ord(s)] = spawn\n",
    "            node = internal.parent\n",
    "\n",
    "        while node is not None:\n",
    "            largest = self.find_largest_node(node.weight)\n",
    "            if (node is not largest and node is not largest.parent and largest is not node.parent):\n",
    "                self.swap_node(node, largest)\n",
    "\n",
    "            node.weight = node.weight + 1\n",
    "            node = node.parent\n",
    "\n",
    "    def encode(self, text):\n",
    "        result = ''\n",
    "        for s in text:\n",
    "            if self.seen[ord(s)]:\n",
    "                result += self.get_code(s, self.root)\n",
    "            else:\n",
    "                result += self.get_code('NYT', self.root)\n",
    "                result += bin(ord(s))[2:].zfill(8)\n",
    "            self.insert(s)\n",
    "        return result\n",
    "\n",
    "    def get_symbol_by_ascii(self, bin_str):\n",
    "        return chr(int(bin_str,2))\n",
    "\n",
    "    def decode(self, text):\n",
    "        result = ''\n",
    "        symbol = self.get_symbol_by_ascii(text[:8])\n",
    "        result += symbol\n",
    "        self.insert(symbol)\n",
    "        node = self.root\n",
    "        i = 8\n",
    "        while i < len(text):\n",
    "            node = node.left if text[i] == '0' else node.right\n",
    "            symbol = node.symbol\n",
    "            if symbol:\n",
    "                if symbol == 'NYT':\n",
    "                    symbol = self.get_symbol_by_ascii(text[i+1:i+9])\n",
    "                    i += 8\n",
    "                result += symbol\n",
    "                self.insert(symbol)\n",
    "                node = self.root\n",
    "            i += 1\n",
    "        return result\n",
    "\n",
    "\n"
   ]
  },
  {
   "cell_type": "code",
   "execution_count": 3,
   "metadata": {},
   "outputs": [
    {
     "output_type": "stream",
     "name": "stdout",
     "text": [
      "Original text file:\n\n We're no strangers to love\nYou know the rules and so do I\nA full commitment's what I'm thinking of\nYou wouldn't get this from any other guy\nI just wanna tell you how I'm feeling\nGotta make you understand\nNever gonna give you up, never gonna let you down\nNever gonna run around and desert you\nNever gonna make you cry, never gonna say goodbye\nNever gonna tell a lie and hurt you\nWe've known each other for so long\nYour heart's been aching but you're too shy to say it\nInside we both know what's been going on\nWe know the game and we're gonna play it\nAnd if you ask me how I'm feeling\nDon't tell me you're too blind to see\nNever gonna give you up, never gonna let you down\nNever gonna run around and desert you\nNever gonna make you cry, never gonna say goodbye\nNever gonna tell a lie and hurt you\nNever gonna give you up, never gonna let you down\nNever gonna run around and desert you\nNever gonna make you cry, never gonna say goodbye\nNever gonna tell a lie and hurt you\nWe've known each other for so long\nYour heart's been aching but you're too shy to say it\nInside we both know what's been going on\nWe know the game and we're gonna play it\nI just wanna tell you how I'm feeling\nGotta make you understand\nNever gonna give you up, never gonna let you down\nNever gonna run around and desert you\nNever gonna make you cry, never gonna say goodbye\nNever gonna tell a lie and hurt you\nNever gonna give you up, never gonna let you down\nNever gonna run around and desert you\nNever gonna make you cry, never gonna say goodbye\nNever gonna tell a lie and hurt you\nNever gonna give you up, never gonna let you down\nNever gonna run around and desert you\nNever gonna make you cry, never gonna say goodbye\nNever gonna tell a lie and hurt you\n"
     ]
    }
   ],
   "source": [
    "text = None\n",
    "result = None\n",
    "\n",
    "with open(\"sample.txt\") as f:\n",
    "    text = f.read()\n",
    "\n",
    "print(\"Original text file:\\n\\n\", text)"
   ]
  },
  {
   "cell_type": "code",
   "execution_count": 4,
   "metadata": {},
   "outputs": [
    {
     "output_type": "stream",
     "name": "stdout",
     "text": [
      "Encoded text file:\n\n 0101011100110010100001001111000111001011000001000001000011011100100011011110110000011100111100001110100110010100011000011010011000110011111010010111000111011010100100011011001110011100011101101001010000000101000110001011001010011000011101011100001000110101111000100010000111011111001001110100011010000101101100001010010001101011100001010100000000110010011001110100010100010100010100000100100111101010000000100000100010100001100110110011100011011001110110001100011010111110000110110111010101001010001101001110110010011011011000111001010011110011000010100010010101110111010000011000111101011011000001011000000010110101010000000111111111110110111100001100011110110011111011100110110000011011010010110010001111100001000100111111000110001101110011111011111011000110010111011001010100100000111100111100111010111010001011111100100101110000010101000011101111010101000110101011010110101100111110100011001001100101111111110010001001010011111010100111011111111100100000100011110111101100011111111011110111011111011010000111010000100110111010001000111111011001100101101110111110110010000100111101110111101110111100011000011101100101111101101011110101000101001001111100110000100111010011101111010100111111101010000100010000010111011000101110011001010111101010000010011101001001101000111000011010111000010110011110001100011010110010010111011101110101110111111011110010110010001111100101110010011100100000110010101101000011111111101011110110110101111011100001011101110111111101010101110011011111111101111010111100011011001001110001111100101110110101110111110010001101100111101011001010110000011011101010111000101101001111111110111001001100011101001011001111011000110111001101100101111000100011000110100111000011111010111111001011010100111011111111010011001111010001011110101001110111001011001101000011000101001011100101010110101110101101000001011010100111111101110011011001100000101110000110011111010010101001000110011111110111111010100101000001011011010010111001000100000000100001010101101101001110101111111111110101000111111000101111011110010101111011100110101100001000111000000011100001110010101110110100111111111010100010101011000111110001010011010111100001110100010010001101101110101100100100000011101100111100110000000100110111010100110101011100010010011010001111100101001110101000110011011111111110100000011110001110011011111101000001101001011010101001110100010111001110100011011010011100011010011000011000110101101011101011111101111111001101101000110101100011010101011110100110001110011001100000011001111000111011011101100100101101111111001000100101110011100110001110000101101110011110000001110101000101100100001111010111000100011110111000110101111011001111101000001100110001101101001101010101001101000111011010001100100110011010011100010001101111001011000110100011101101111110111100010101101111001110011110101111011101101111011000101011101010111101101000100101010110111110010100010011001101000010001001101110010101101011110101001011000110011110101000111110010110110110000001011100111101111101110111110101001000011011111001101111110111000111100000010010100101100110011001100011011111110100000110011000101111101000100010011000111110010000101101111011001100101011001011111100001100111001101111111001100011001100010111110001001011111110010000101101111100110001100101100010011010000001101001010110101111001100011001100001111111000101111101111001111000000101111101110011111011011010010111101011001010110011100000111111001000010111011001010000010101011010110011111001100011011101011011010011101100010100101101001000010111111001011011001100100110011111111010101011000101100111010100000111111110111110011011000100101101010011011101011101001110100100100010110110100101011100101110111010101000111111111000110001101001101011011101000110011110010001011010001101011101111100011011111001001111110010110110111001011011011010110000010111011101010111111111111110001101010111101011100001011010011111010111110101111001001010110101110111101000001010000111010101111011111111100011001011011001111010011111010111110010101110101100000010001110001010001000101110111010101111100000010001101110110111000110100000101111111000000101011010000000101011001111010011000100011111011101010011101111001101001010010001000100011110101011110000000100011010011010001011101010110101001110111001100010100001110100101111011100000100010001000111101011011110000001000110001001000101001101011011011101010111001110101000110100001001001100101011001111010110111100000010001101110101101001010011101000110010101011100111111000000100101111010011100000111100111110101110111000010001011110110100111010010101011110111110001101101000000111010100001001111010011111101110011010110110011111100111011010011111001001101111010101101000101100011010010010110111100010011010111001010000110111011001010010011010011110100100001101000100110010111110101100010110110101010111000110011101010011111110010010101000111101110111111111110001001011111010011011101111111000110100010100110101011111010011000100111111001111010110101101011010011101011010101100001110110111111010110111110000100111110101100111101100011111100101010011101111000011011111011010101111110110111101010111011111110010001001011101111011100011111111110110011011101001000111101010110001001000111101000000010111101011000111001100011011110101011111000000100011010010111010011000101001101011011110101000001011111010011111111101110101011101110101100100000000010001101100101101001010011111010011011011111100100110110110011100101111001101001001110010111011011010111011010001010101000100111111111101001000101000111100100100000101001111110100110110111111101110000100101111001010010011100000001010010001100001010101101010110011111010111010000001000111101011100011011010111101010011101011111010111100111011001111111000001111010001111011110101011110000000100011001011011001111010100110010111111010101100101100000010001011011011111001011111011101010111100000001000110111111011100111010000000111010111001010101101000001010111100101101101000011000100001111010011011011101001101110101111101001100011101010111100000001000110100100100010111010111101010011101110011011101111000110100101111011100000110010001100111101010111010000001000111001011001101001111010111011101010111000111101000110100101000001100100011001111110101110100000010011111100101101000010001111001111010101010110111111001000010111111011101100000111100111110100110111000010000100000110010001100111111011011010000001001111101101010110010001111110100110111000111110001011110001000101110000110010101100111111011011010000001001111010100111100111110100110111000111100001101101010000010000100100110010101100111111011011010000001001111001111000000111100100111101110000001000011110010001000011110000011000000110001110001111010011011100101000010010011001010110011111101101101000000100111101011010011011111011111101001101110011110100111001110100001111011100001100101011010011110110110100000010011110000010011010011110110110111011000010001111010101100010010111011001110110100111101101101000000100111111000011000010000111110011110011110100101111110010001000011110100111001010011000111101011101110010011010001001101010011010011110111110100000010011111011110110001010011111101011101110011111100110110100000011111100101101011011010011110111110100100110011110101001111000111101011101110011111000011011010000010001010001001101011011010011110111110100100110011110100110010011111001010011011100100110000111100100110000111100000111100100110100110001111010111010000000111000100110101101101001111011111010010011001111000100100110110110111111010111010000111110011110100101011000110111001011010010110101111101111101001001100111111001010011010111110111110111011000010001111010101100011100010011010010110100111101111101001001100111111000011000110001111110011110101010101001111110010011000011110100100000100110001111011011010000\n"
     ]
    }
   ],
   "source": [
    "result = FGK().encode(text)\n",
    "print(\"Encoded text file:\\n\\n\", result)"
   ]
  },
  {
   "cell_type": "code",
   "execution_count": 5,
   "metadata": {},
   "outputs": [
    {
     "output_type": "stream",
     "name": "stdout",
     "text": [
      "Decoded text file:\n\n We're no strangers to love\nYou know the rules and so do I\nA full commitment's what I'm thinking of\nYou wouldn't get this from any other guy\nI just wanna tell you how I'm feeling\nGotta make you understand\nNever gonna give you up, never gonna let you down\nNever gonna run around and desert you\nNever gonna make you cry, never gonna say goodbye\nNever gonna tell a lie and hurt you\nWe've known each other for so long\nYour heart's been aching but you're too shy to say it\nInside we both know what's been going on\nWe know the game and we're gonna play it\nAnd if you ask me how I'm feeling\nDon't tell me you're too blind to see\nNever gonna give you up, never gonna let you down\nNever gonna run around and desert you\nNever gonna make you cry, never gonna say goodbye\nNever gonna tell a lie and hurt you\nNever gonna give you up, never gonna let you down\nNever gonna run around and desert you\nNever gonna make you cry, never gonna say goodbye\nNever gonna tell a lie and hurt you\nWe've known each other for so long\nYour heart's been aching but you're too shy to say it\nInside we both know what's been going on\nWe know the game and we're gonna play it\nI just wanna tell you how I'm feeling\nGotta make you understand\nNever gonna give you up, never gonna let you down\nNever gonna run around and desert you\nNever gonna make you cry, never gonna say goodbye\nNever gonna tell a lie and hurt you\nNever gonna give you up, never gonna let you down\nNever gonna run around and desert you\nNever gonna make you cry, never gonna say goodbye\nNever gonna tell a lie and hurt you\nNever gonna give you up, never gonna let you down\nNever gonna run around and desert you\nNever gonna make you cry, never gonna say goodbye\nNever gonna tell a lie and hurt you\n"
     ]
    }
   ],
   "source": [
    "result = FGK().decode(result)\n",
    "print (\"Decoded text file:\\n\\n\", result)"
   ]
  },
  {
   "cell_type": "code",
   "execution_count": 6,
   "metadata": {},
   "outputs": [
    {
     "output_type": "execute_result",
     "data": {
      "text/plain": [
       "True"
      ]
     },
     "metadata": {},
     "execution_count": 6
    }
   ],
   "source": [
    "text == result"
   ]
  },
  {
   "cell_type": "code",
   "execution_count": null,
   "metadata": {},
   "outputs": [],
   "source": []
  }
 ]
}