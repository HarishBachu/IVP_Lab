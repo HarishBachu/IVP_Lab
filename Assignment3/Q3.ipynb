{
 "cells": [
  {
   "cell_type": "code",
   "execution_count": 2,
   "metadata": {},
   "outputs": [],
   "source": [
    "import numpy as np"
   ]
  },
  {
   "cell_type": "code",
   "execution_count": 3,
   "metadata": {},
   "outputs": [],
   "source": [
    "def circulant_array(arr, reps):\n",
    "    circulant= np.zeros((len(arr), reps))\n",
    "    circulant[:,0]= np.reshape(arr, (len(arr),))\n",
    "    \n",
    "    for i in range(1, reps):\n",
    "        circulant[:,i]= np.roll(circulant[:,i-1],1)\n",
    "    return circulant"
   ]
  },
  {
   "cell_type": "code",
   "execution_count": 4,
   "metadata": {},
   "outputs": [],
   "source": [
    "a = np.array([[1.,2,3],[4,5,6],[7,8,9]])\n",
    "filt=np.array([[1,2,1],[0,0,0],[-1,-2,-1]])"
   ]
  },
  {
   "cell_type": "code",
   "execution_count": 5,
   "metadata": {},
   "outputs": [
    {
     "output_type": "stream",
     "name": "stdout",
     "text": [
      "Input Array: \n [[1. 2. 3.]\n [4. 5. 6.]\n [7. 8. 9.]]\n\n Doubly block circulant matrix:\n [[-1. -1. -2.  0.  0.  0.  1.  1.  2.]\n [-2. -1. -1.  0.  0.  0.  2.  1.  1.]\n [-1. -2. -1.  0.  0.  0.  1.  2.  1.]\n [ 1.  1.  2. -1. -1. -2.  0.  0.  0.]\n [ 2.  1.  1. -2. -1. -1.  0.  0.  0.]\n [ 1.  2.  1. -1. -2. -1.  0.  0.  0.]\n [ 0.  0.  0.  1.  1.  2. -1. -1. -2.]\n [ 0.  0.  0.  2.  1.  1. -2. -1. -1.]\n [ 0.  0.  0.  1.  2.  1. -1. -2. -1.]]\n\nFilter:\n [[ 1  2  1]\n [ 0  0  0]\n [-1 -2 -1]]\n\nCircular Convolution:\n [[ 24.  24.  24.]\n [-12. -12. -12.]\n [-12. -12. -12.]]\n"
     ]
    }
   ],
   "source": [
    "x0 = circulant_array(filt[(np.shape(filt)[0]-1)-0],len(filt))\n",
    "x1 = circulant_array(filt[(np.shape(filt)[0]-1)-1],len(filt))\n",
    "x2 = circulant_array(filt[(np.shape(filt)[0]-1)-2],len(filt))\n",
    "h1 = np.hstack((x0,x1,x2))\n",
    "h2 = np.hstack((x2,x0,x1))\n",
    "h3 = np.hstack((x1,x2,x0))\n",
    "mat = np.vstack((h1,h2,h3))\n",
    "\n",
    "x = np.reshape(a,(9,1))\n",
    "y = np.matmul(mat,x)\n",
    "y = np.reshape(y,(3,3))\n",
    "\n",
    "print('Input Array: \\n', a)\n",
    "print('\\n Doubly block circulant matrix:\\n', mat)\n",
    "print('\\nFilter:\\n', filt)\n",
    "print('\\nCircular Convolution:\\n', y)"
   ]
  },
  {
   "cell_type": "code",
   "execution_count": null,
   "metadata": {},
   "outputs": [],
   "source": []
  }
 ],
 "metadata": {
  "kernelspec": {
   "display_name": "Python 3",
   "language": "python",
   "name": "python3"
  },
  "language_info": {
   "codemirror_mode": {
    "name": "ipython",
    "version": 3
   },
   "file_extension": ".py",
   "mimetype": "text/x-python",
   "name": "python",
   "nbconvert_exporter": "python",
   "pygments_lexer": "ipython3",
   "version": "3.7.9-final"
  }
 },
 "nbformat": 4,
 "nbformat_minor": 4
}