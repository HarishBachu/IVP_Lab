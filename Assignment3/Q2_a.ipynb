{
 "metadata": {
  "language_info": {
   "codemirror_mode": {
    "name": "ipython",
    "version": 3
   },
   "file_extension": ".py",
   "mimetype": "text/x-python",
   "name": "python",
   "nbconvert_exporter": "python",
   "pygments_lexer": "ipython3",
   "version": "3.7.9-final"
  },
  "orig_nbformat": 2,
  "kernelspec": {
   "name": "python37964bit21445affbb53409d87ea2999288cab68",
   "display_name": "Python 3.7.9 64-bit",
   "language": "python"
  }
 },
 "nbformat": 4,
 "nbformat_minor": 2,
 "cells": [
  {
   "cell_type": "code",
   "execution_count": 1,
   "metadata": {},
   "outputs": [],
   "source": [
    "import numpy as np \n",
    "import cv2 \n",
    "from matplotlib import pyplot as plt \n",
    "import cmath \n"
   ]
  },
  {
   "cell_type": "code",
   "execution_count": 2,
   "metadata": {},
   "outputs": [],
   "source": [
    "def DFT_mat(img):\n",
    "\n",
    "    data = np.asarray(img)\n",
    "    img_size = data.shape\n",
    "    \n",
    "    dft = np.zeros((img_size[0], img_size[1]), dtype = np.complex)\n",
    "\n",
    "    for I in range(img_size[0]):\n",
    "        for J in range(img_size[1]):\n",
    "\n",
    "            mat_sum = 0.0\n",
    "            for K in range(img_size[0]):\n",
    "                for L in range(img_size[1]):\n",
    "                    w = cmath.exp(- 2j * np.pi * ((I * K) / img_size[0] + (J * L) / img_size[1]))\n",
    "\n",
    "                    mat_sum += data[K, L] * w\n",
    "            dft[I, J] = mat_sum \n",
    "    return dft"
   ]
  },
  {
   "cell_type": "code",
   "execution_count": 3,
   "metadata": {},
   "outputs": [
    {
     "output_type": "stream",
     "name": "stdout",
     "text": [
      "Original Matrix: \n\n[[1 0]\n [2 1]]\n\n\n\nDFT of Matrix: \n\n[[ 4.+0.0000000e+00j  2.-1.2246468e-16j]\n [-2.-3.6739404e-16j  0.+0.0000000e+00j]]\n"
     ]
    }
   ],
   "source": [
    "arr1 = np.array([[1, 0], [2, 1]])\n",
    "dft1 = DFT_mat(arr1)\n",
    "\n",
    "print(\"Original Matrix: \\n\")\n",
    "print(arr1)\n",
    "\n",
    "print(\"\\n\\n\")\n",
    "\n",
    "print(\"DFT of Matrix: \\n\")\n",
    "print(dft1)"
   ]
  },
  {
   "cell_type": "code",
   "execution_count": 9,
   "metadata": {},
   "outputs": [
    {
     "output_type": "stream",
     "name": "stdout",
     "text": [
      "Original Matrix: \n\n[[ 1  2  3  4]\n [ 5  6  7  8]\n [ 9 10 11 12]\n [13 14 15 16]]\n\n\n\nDFT of Matrix: \n\n[[ 1.36000000e+02+0.00000000e+00j -8.00000000e+00+8.00000000e+00j\n  -8.00000000e+00-9.79717439e-15j -8.00000000e+00-8.00000000e+00j]\n [-3.20000000e+01+3.20000000e+01j  3.55271368e-15+1.22712272e-15j\n   2.50990696e-15+0.00000000e+00j -2.13162821e-14+6.42753875e-15j]\n [-3.20000000e+01-1.42059029e-14j  3.48838644e-15+0.00000000e+00j\n   0.00000000e+00+2.44929360e-15j -6.79864668e-14+3.55271368e-15j]\n [-3.20000000e+01-3.20000000e+01j -2.48689958e-14+2.87482507e-15j\n  -8.31807528e-14+3.55271368e-15j -5.68434189e-14+1.90501133e-15j]]\n"
     ]
    }
   ],
   "source": [
    "arr2 = np.array([[1,2, 3,4], [5, 6, 7, 8], [9,10,11,12], [13,14,15,16]])\n",
    "dft2 = DFT_mat(arr2)\n",
    "\n",
    "print(\"Original Matrix: \\n\")\n",
    "print(arr2)\n",
    "\n",
    "print(\"\\n\\n\")\n",
    "\n",
    "print(\"DFT of Matrix: \\n\")\n",
    "print(dft2)"
   ]
  },
  {
   "cell_type": "code",
   "execution_count": 12,
   "metadata": {},
   "outputs": [
    {
     "output_type": "execute_result",
     "data": {
      "text/plain": [
       "array([[136. +0.j,  -8. +8.j,  -8. +0.j,  -8. -8.j],\n",
       "       [-32.+32.j,   0. +0.j,   0. +0.j,   0. +0.j],\n",
       "       [-32. +0.j,   0. +0.j,   0. +0.j,   0. +0.j],\n",
       "       [-32.-32.j,   0. +0.j,   0. +0.j,   0. +0.j]])"
      ]
     },
     "metadata": {},
     "execution_count": 12
    }
   ],
   "source": [
    "np.fft.fft2(arr2)"
   ]
  },
  {
   "cell_type": "code",
   "execution_count": null,
   "metadata": {},
   "outputs": [],
   "source": []
  }
 ]
}